{
 "cells": [
  {
   "cell_type": "markdown",
   "metadata": {},
   "source": [
    "# Project 2: Supervised Learning\n",
    "### Building a Student Intervention System"
   ]
  },
  {
   "cell_type": "markdown",
   "metadata": {},
   "source": [
    "## 1. Classification vs Regression\n",
    "\n",
    "Your goal is to identify students who might need early intervention - which type of supervised machine learning problem is this, classification or regression? Why?\n",
    "\n",
    "Classification. This is classification because the output we want is takes class labels of \"needs early intervention\" and \"doesn't need early intervention\". Regression has output that has continuous values like a range of real numbers."
   ]
  },
  {
   "cell_type": "markdown",
   "metadata": {},
   "source": [
    "## 2. Exploring the Data\n",
    "\n",
    "Let's go ahead and read in the student dataset first.\n",
    "\n",
    "_To execute a code cell, click inside it and press **Shift+Enter**._"
   ]
  },
  {
   "cell_type": "code",
   "execution_count": 137,
   "metadata": {
    "collapsed": false
   },
   "outputs": [],
   "source": [
    "# Import libraries\n",
    "import numpy as np\n",
    "import pandas as pd"
   ]
  },
  {
   "cell_type": "code",
   "execution_count": 138,
   "metadata": {
    "collapsed": false
   },
   "outputs": [
    {
     "name": "stdout",
     "output_type": "stream",
     "text": [
      "Student data read successfully!\n"
     ]
    }
   ],
   "source": [
    "# Read student data\n",
    "student_data = pd.read_csv(\"student-data.csv\")\n",
    "print(\"Student data read successfully!\")\n",
    "# Note: The last column 'passed' is the target/label, all other are feature columns"
   ]
  },
  {
   "cell_type": "markdown",
   "metadata": {},
   "source": [
    "Now, can you find out the following facts about the dataset?\n",
    "- Total number of students\n",
    "- Number of students who passed\n",
    "- Number of students who failed\n",
    "- Graduation rate of the class (%)\n",
    "- Number of features\n",
    "\n",
    "_Use the code block below to compute these values. Instructions/steps are marked using **TODO**s._"
   ]
  },
  {
   "cell_type": "code",
   "execution_count": 139,
   "metadata": {
    "collapsed": false
   },
   "outputs": [
    {
     "name": "stdout",
     "output_type": "stream",
     "text": [
      "Total number of students: 395\n",
      "Number of students who passed: 265\n",
      "Number of students who failed: 130\n",
      "Number of features: 30\n",
      "Graduation rate of the class: 67.09%\n"
     ]
    }
   ],
   "source": [
    "# TODO: Compute desired values - replace each '?' with an appropriate expression/function call\n",
    "\n",
    "n_students = len(student_data.index) \n",
    "n_features = len(student_data.iloc[0]) - 1 #last column is output not feature\n",
    "n_passed = student_data['passed'].value_counts()['yes']\n",
    "n_failed = student_data['passed'].value_counts()['no']\n",
    "grad_rate = (n_passed / (n_failed + n_passed) ) * 100\n",
    "print(\"Total number of students: {}\".format(n_students))\n",
    "print(\"Number of students who passed: {}\".format(n_passed))\n",
    "print(\"Number of students who failed: {}\".format(n_failed))\n",
    "print(\"Number of features: {}\".format(n_features))\n",
    "print(\"Graduation rate of the class: {:.2f}%\".format(grad_rate))"
   ]
  },
  {
   "cell_type": "markdown",
   "metadata": {},
   "source": [
    "## 3. Preparing the Data\n",
    "In this section, we will prepare the data for modeling, training and testing.\n",
    "\n",
    "### Identify feature and target columns\n",
    "It is often the case that the data you obtain contains non-numeric features. This can be a problem, as most machine learning algorithms expect numeric data to perform computations with.\n",
    "\n",
    "Let's first separate our data into feature and target columns, and see if any features are non-numeric.<br/>\n",
    "**Note**: For this dataset, the last column (`'passed'`) is the target or label we are trying to predict."
   ]
  },
  {
   "cell_type": "code",
   "execution_count": 140,
   "metadata": {
    "collapsed": false
   },
   "outputs": [
    {
     "name": "stdout",
     "output_type": "stream",
     "text": [
      "Feature column(s):-\n",
      "['school', 'sex', 'age', 'address', 'famsize', 'Pstatus', 'Medu', 'Fedu', 'Mjob', 'Fjob', 'reason', 'guardian', 'traveltime', 'studytime', 'failures', 'schoolsup', 'famsup', 'paid', 'activities', 'nursery', 'higher', 'internet', 'romantic', 'famrel', 'freetime', 'goout', 'Dalc', 'Walc', 'health', 'absences']\n",
      "Target column: passed\n",
      "\n",
      "Feature values:-\n",
      "  school sex  age address famsize Pstatus  Medu  Fedu     Mjob      Fjob  \\\n",
      "0     GP   F   18       U     GT3       A     4     4  at_home   teacher   \n",
      "1     GP   F   17       U     GT3       T     1     1  at_home     other   \n",
      "2     GP   F   15       U     LE3       T     1     1  at_home     other   \n",
      "3     GP   F   15       U     GT3       T     4     2   health  services   \n",
      "4     GP   F   16       U     GT3       T     3     3    other     other   \n",
      "\n",
      "    ...    higher internet  romantic  famrel  freetime goout Dalc Walc health  \\\n",
      "0   ...       yes       no        no       4         3     4    1    1      3   \n",
      "1   ...       yes      yes        no       5         3     3    1    1      3   \n",
      "2   ...       yes      yes        no       4         3     2    2    3      3   \n",
      "3   ...       yes      yes       yes       3         2     2    1    1      5   \n",
      "4   ...       yes       no        no       4         3     2    1    2      5   \n",
      "\n",
      "  absences  \n",
      "0        6  \n",
      "1        4  \n",
      "2       10  \n",
      "3        2  \n",
      "4        4  \n",
      "\n",
      "[5 rows x 30 columns]\n"
     ]
    }
   ],
   "source": [
    "# Extract feature (X) and target (y) columns\n",
    "feature_cols = list(student_data.columns[:-1])  # all columns but last are features\n",
    "target_col = student_data.columns[-1]  # last column is the target/label\n",
    "print(\"Feature column(s):-\\n{}\".format(feature_cols))\n",
    "print(\"Target column: {}\".format(target_col))\n",
    "\n",
    "X_all = student_data[feature_cols]  # feature values for all students\n",
    "y_all = student_data[target_col]  # corresponding targets/labels\n",
    "print(\"\\nFeature values:-\")\n",
    "print(X_all.head()) # print the first 5 rows"
   ]
  },
  {
   "cell_type": "markdown",
   "metadata": {},
   "source": [
    "### Preprocess feature columns\n",
    "\n",
    "As you can see, there are several non-numeric columns that need to be converted! Many of them are simply `yes`/`no`, e.g. `internet`. These can be reasonably converted into `1`/`0` (binary) values.\n",
    "\n",
    "Other columns, like `Mjob` and `Fjob`, have more than two values, and are known as _categorical variables_. The recommended way to handle such a column is to create as many columns as possible values (e.g. `Fjob_teacher`, `Fjob_other`, `Fjob_services`, etc.), and assign a `1` to one of them and `0` to all others.\n",
    "\n",
    "These generated columns are sometimes called _dummy variables_, and we will use the [`pandas.get_dummies()`](http://pandas.pydata.org/pandas-docs/stable/generated/pandas.get_dummies.html?highlight=get_dummies#pandas.get_dummies) function to perform this transformation."
   ]
  },
  {
   "cell_type": "code",
   "execution_count": 141,
   "metadata": {
    "collapsed": false
   },
   "outputs": [
    {
     "name": "stdout",
     "output_type": "stream",
     "text": [
      "Processed feature columns (48):-\n",
      "['school_GP', 'school_MS', 'sex_F', 'sex_M', 'age', 'address_R', 'address_U', 'famsize_GT3', 'famsize_LE3', 'Pstatus_A', 'Pstatus_T', 'Medu', 'Fedu', 'Mjob_at_home', 'Mjob_health', 'Mjob_other', 'Mjob_services', 'Mjob_teacher', 'Fjob_at_home', 'Fjob_health', 'Fjob_other', 'Fjob_services', 'Fjob_teacher', 'reason_course', 'reason_home', 'reason_other', 'reason_reputation', 'guardian_father', 'guardian_mother', 'guardian_other', 'traveltime', 'studytime', 'failures', 'schoolsup', 'famsup', 'paid', 'activities', 'nursery', 'higher', 'internet', 'romantic', 'famrel', 'freetime', 'goout', 'Dalc', 'Walc', 'health', 'absences']\n"
     ]
    }
   ],
   "source": [
    "# Preprocess feature columns\n",
    "def preprocess_features(X):\n",
    "    outX = pd.DataFrame(index=X.index)  # output dataframe, initially empty\n",
    "\n",
    "    # Check each column\n",
    "    for col, col_data in X.iteritems(): \n",
    "        # If data type is non-numeric, try to replace all yes/no values with 1/0\n",
    "        if col_data.dtype == object:\n",
    "            col_data = col_data.replace(['yes', 'no'], [1, 0])\n",
    "        # Note: This should change the data type for yes/no columns to int\n",
    "\n",
    "        # If still non-numeric, convert to one or more dummy variables\n",
    "        if col_data.dtype == object:\n",
    "            col_data = pd.get_dummies(col_data, prefix=col)  # e.g. 'school' => 'school_GP', 'school_MS'\n",
    "\n",
    "        outX = outX.join(col_data)  # collect column(s) in output dataframe\n",
    "\n",
    "    return outX\n",
    "\n",
    "X_all = preprocess_features(X_all)\n",
    "print(\"Processed feature columns ({}):-\\n{}\".format(len(X_all.columns), list(X_all.columns)))"
   ]
  },
  {
   "cell_type": "markdown",
   "metadata": {},
   "source": [
    "### Split data into training and test sets\n",
    "\n",
    "So far, we have converted all _categorical_ features into numeric values. In this next step, we split the data (both features and corresponding labels) into training and test sets."
   ]
  },
  {
   "cell_type": "code",
   "execution_count": 142,
   "metadata": {
    "collapsed": false,
    "scrolled": true
   },
   "outputs": [
    {
     "name": "stdout",
     "output_type": "stream",
     "text": [
      "Training set: 300 samples\n",
      "Test set: 95 samples\n"
     ]
    }
   ],
   "source": [
    "from sklearn.cross_validation import train_test_split\n",
    "\n",
    "# First, decide how many training vs test samples you want\n",
    "num_all = student_data.shape[0]  # same as len(student_data)\n",
    "num_train = 300  # about 75% of the data\n",
    "num_test = num_all - num_train\n",
    "\n",
    "# TODO: Then, select features (X) and corresponding labels (y) for the training and test sets\n",
    "# Note: Shuffle the data or randomly select samples to avoid any bias due to ordering in the dataset\n",
    "X_train, X_test, y_train, y_test = train_test_split(X_all, y_all, test_size=.2405, random_state=10)\n",
    "\n",
    "print(\"Training set: {} samples\".format(X_train.shape[0]))\n",
    "print(\"Test set: {} samples\".format(X_test.shape[0]))\n",
    "# Note: If you need a validation set, extract it from within training data"
   ]
  },
  {
   "cell_type": "markdown",
   "metadata": {},
   "source": [
    "## 4. Training and Evaluating Models\n",
    "Choose 3 supervised learning models that are available in scikit-learn, and appropriate for this problem. For each model:\n",
    "\n",
    "- What are the general applications of this model? What are its strengths and weaknesses?\n",
    "- Given what you know about the data so far, why did you choose this model to apply?\n",
    "- Fit this model to the training data, try to predict labels (for both training and test sets), and measure the F<sub>1</sub> score. Repeat this process with different training set sizes (100, 200, 300), keeping test set constant.\n",
    "\n",
    "Produce a table showing training time, prediction time, F<sub>1</sub> score on training set and F<sub>1</sub> score on test set, for each training set size.\n",
    "\n",
    "Note: You need to produce 3 such tables - one for each model."
   ]
  },
  {
   "cell_type": "markdown",
   "metadata": {},
   "source": [
    "1 - Decision Tree. A decision tree is a machine learning model that can be used for supervised classification. Some of its strengths are that it's easy to conceptualize the data with it, it allows simple decision rules in each node, and it is easy to explain the model to decision makers. Some weaknesses are that it is prone to overfitting, grows exponentially in size with each level of the tree, can be sensitive to small changes in data, and it can have problems with out-of-sample predictions.\n",
    "\n",
    "I chose this as one of the 3 models because it would be easy to explain to the decision makers. My job is meaningless if I cannot convert what information I've learned into some action. Also the type of features and the range of values in this data allow easy rules for splitting the data at the nodes. Also there doesn't seem to exist a data point that could be an extreme outlier based on the possible values for each feature.\n",
    "\n",
    "2 - Support Vector Machine. A support vector machine is a learning model that can be used for supervised classification. Some of its strengths are that is works well in complicated domains with large margin levels, it's effective in high dimensional spaces, and the kernel functions can allow domain knowledge to be built into the algorithm. Some weaknesses are that the cubic training time makes this not work well with large datasets, it doesn't work well with very noisy data, doesn't inherently provide probability estimates.\n",
    "\n",
    "I chose this as one of 3 models because our training dataset is not that large and we do not require a probability estimate. Also we have a large number of features in our data this might be a good choice.\n",
    "\n",
    "3 - K-NN Classifier. A K-nearest neighbors classifier is a machine learning model that can be used for supervised classification. It is an instance based model, that stores instances of the data and does not try to make a generalized model. Some of its strengths are its training run time, it's robust to noisy training data, and is effective with large data sets. Some weakness are that it has a high computation cost since it doesn't form a predictive model with the data initially, and the K value and distance formula can make a big difference in its predictive ability.\n",
    "\n",
    "I chose this as of the 3 models because we I think we have enough data for it to yield good results. Also even though the computation time might be higher than the other models, the time it actually takes would not make a negative impact on choosing it.  "
   ]
  },
  {
   "cell_type": "code",
   "execution_count": 143,
   "metadata": {
    "collapsed": false
   },
   "outputs": [
    {
     "name": "stdout",
     "output_type": "stream",
     "text": [
      "Training DecisionTreeClassifier...\n",
      "Done!\n",
      "Training time (secs): 0.00200009\n"
     ]
    }
   ],
   "source": [
    "# Train a model\n",
    "import time\n",
    "\n",
    "def train_classifier(clf, X_train, y_train):\n",
    "    print(\"Training {}...\".format(clf.__class__.__name__))\n",
    "    start = time.time()\n",
    "    clf.fit(X_train, y_train)\n",
    "    end = time.time()\n",
    "    print(\"Done!\\nTraining time (secs): {:.8f}\".format(end - start))\n",
    "\n",
    "# TODO: Choose a model, import it and instantiate an object\n",
    "from sklearn import tree\n",
    "clf = tree.DecisionTreeClassifier(max_depth=2)\n",
    "\n",
    "# Fit model to training data\n",
    "train_classifier(clf, X_train, y_train)  # note: using entire training set here\n",
    "#print(clf)  # you can inspect the learned model by printing it\n"
   ]
  },
  {
   "cell_type": "code",
   "execution_count": 144,
   "metadata": {
    "collapsed": false
   },
   "outputs": [
    {
     "name": "stdout",
     "output_type": "stream",
     "text": [
      "Predicting labels using DecisionTreeClassifier...\n",
      "Done!\n",
      "Prediction time (secs): 0.001000165939\n",
      "F1 score for training set: 0.8319327731092436\n"
     ]
    }
   ],
   "source": [
    "# Predict on training set and compute F1 score\n",
    "from sklearn.metrics import f1_score\n",
    "\n",
    "def predict_labels(clf, features, target):\n",
    "    print(\"Predicting labels using {}...\".format(clf.__class__.__name__))\n",
    "    start = time.time()\n",
    "    y_pred = clf.predict(features)\n",
    "    end = time.time()\n",
    "    print(\"Done!\\nPrediction time (secs): {:.12f}\".format(end - start))\n",
    "    return f1_score(target.values, y_pred, pos_label='yes')\n",
    "\n",
    "train_f1_score = predict_labels(clf, X_train, y_train)\n",
    "print(\"F1 score for training set: {}\".format(train_f1_score))"
   ]
  },
  {
   "cell_type": "code",
   "execution_count": 145,
   "metadata": {
    "collapsed": false
   },
   "outputs": [
    {
     "name": "stdout",
     "output_type": "stream",
     "text": [
      "Predicting labels using DecisionTreeClassifier...\n",
      "Done!\n",
      "Prediction time (secs): 0.000000000000\n",
      "F1 score for test set: 0.8129032258064516\n"
     ]
    }
   ],
   "source": [
    "# Predict on test data\n",
    "print(\"F1 score for test set: {}\".format(predict_labels(clf, X_test, y_test)))"
   ]
  },
  {
   "cell_type": "code",
   "execution_count": 146,
   "metadata": {
    "collapsed": false
   },
   "outputs": [
    {
     "name": "stdout",
     "output_type": "stream",
     "text": [
      "------------------------------------------\n",
      "Training set size: 100\n",
      "Training DecisionTreeClassifier...\n",
      "Done!\n",
      "Training time (secs): 0.00100017\n",
      "Predicting labels using DecisionTreeClassifier...\n",
      "Done!\n",
      "Prediction time (secs): 0.000000000000\n",
      "F1 score for training set: 0.8085106382978724\n",
      "Predicting labels using DecisionTreeClassifier...\n",
      "Done!\n",
      "Prediction time (secs): 0.000000000000\n",
      "F1 score for test set: 0.7464788732394365\n",
      "------------------------------------------\n",
      "Training set size: 200\n",
      "Training DecisionTreeClassifier...\n",
      "Done!\n",
      "Training time (secs): 0.00100017\n",
      "Predicting labels using DecisionTreeClassifier...\n",
      "Done!\n",
      "Prediction time (secs): 0.000000000000\n",
      "F1 score for training set: 0.8115015974440893\n",
      "Predicting labels using DecisionTreeClassifier...\n",
      "Done!\n",
      "Prediction time (secs): 0.000000000000\n",
      "F1 score for test set: 0.8129032258064516\n",
      "------------------------------------------\n",
      "Training set size: 300\n",
      "Training DecisionTreeClassifier...\n",
      "Done!\n",
      "Training time (secs): 0.00099993\n",
      "Predicting labels using DecisionTreeClassifier...\n",
      "Done!\n",
      "Prediction time (secs): 0.000000000000\n",
      "F1 score for training set: 0.8319327731092436\n",
      "Predicting labels using DecisionTreeClassifier...\n",
      "Done!\n",
      "Prediction time (secs): 0.000000000000\n",
      "F1 score for test set: 0.8129032258064516\n"
     ]
    }
   ],
   "source": [
    "# Train and predict using different training set sizes\n",
    "def train_predict(clf, X_train, y_train, X_test, y_test):\n",
    "    print(\"------------------------------------------\")\n",
    "    print(\"Training set size: {}\".format(len(X_train)))\n",
    "    train_classifier(clf, X_train, y_train)\n",
    "    print(\"F1 score for training set: {}\".format(predict_labels(clf, X_train, y_train)))\n",
    "    print(\"F1 score for test set: {}\".format(predict_labels(clf, X_test, y_test)))\n",
    "    return \n",
    "    \n",
    "    \n",
    "# TODO: Run the helper function above for desired subsets of training data\n",
    "for training_set_size in [100,200,300]:\n",
    "    train_predict(clf, X_train[0:training_set_size], y_train[0:training_set_size], X_test, y_test)   \n",
    "# Note: Keep the test set constant"
   ]
  },
  {
   "cell_type": "code",
   "execution_count": 190,
   "metadata": {
    "collapsed": false
   },
   "outputs": [
    {
     "name": "stdout",
     "output_type": "stream",
     "text": [
      "Stats for Decision Tree Classifier\n"
     ]
    },
    {
     "data": {
      "text/html": [
       "<div>\n",
       "<table border=\"1\" class=\"dataframe\">\n",
       "  <thead>\n",
       "    <tr style=\"text-align: right;\">\n",
       "      <th></th>\n",
       "      <th>100</th>\n",
       "      <th>200</th>\n",
       "      <th>300</th>\n",
       "    </tr>\n",
       "  </thead>\n",
       "  <tbody>\n",
       "    <tr>\n",
       "      <th>Training time (secs)</th>\n",
       "      <td>0.001000</td>\n",
       "      <td>0.001000</td>\n",
       "      <td>0.001000</td>\n",
       "    </tr>\n",
       "    <tr>\n",
       "      <th>Prediction time (secs)</th>\n",
       "      <td>0.000000</td>\n",
       "      <td>0.000000</td>\n",
       "      <td>0.000000</td>\n",
       "    </tr>\n",
       "    <tr>\n",
       "      <th>F1 score for training set</th>\n",
       "      <td>0.808511</td>\n",
       "      <td>0.811502</td>\n",
       "      <td>0.831933</td>\n",
       "    </tr>\n",
       "    <tr>\n",
       "      <th>F1 score for test set</th>\n",
       "      <td>0.746479</td>\n",
       "      <td>0.812903</td>\n",
       "      <td>0.812903</td>\n",
       "    </tr>\n",
       "  </tbody>\n",
       "</table>\n",
       "</div>"
      ],
      "text/plain": [
       "                                100       200       300\n",
       "Training time (secs)       0.001000  0.001000  0.001000\n",
       "Prediction time (secs)     0.000000  0.000000  0.000000\n",
       "F1 score for training set  0.808511  0.811502  0.831933\n",
       "F1 score for test set      0.746479  0.812903  0.812903"
      ]
     },
     "metadata": {},
     "output_type": "display_data"
    }
   ],
   "source": [
    "from IPython.display import display\n",
    "#columns = [['Training Set Size'],[100,200,300]]\n",
    "#df = pd.DataFrame({100:[0.00100017,0.000000000000,0.8085106382978724,0.7464788732394365],\\\n",
    "#                   200:[1,2,3, 4],300:[1,2,3, 4]}, \\\n",
    "#                  index=['Training time (secs)', 'Prediction time (secs)', 'F1 score for training set', \n",
    "  #                       \\'F1 score for test set'])\n",
    "df = pd.DataFrame({100:[0.00100017,0.000000000000,0.8085106382978724,0.7464788732394365], \n",
    "                   200:[0.00100017,0.000000000000,0.8115015974440893,0.8129032258064516],     \n",
    "                   300:[0.00099993,0.000000000000,0.8319327731092436,0.8129032258064516]},                        \n",
    "                  index=['Training time (secs)', 'Prediction time (secs)', 'F1 score for training set','F1 score for test set'])\n",
    "print('Stats for Decision Tree Classifier')\n",
    "display(df)\n",
    "\n"
   ]
  },
  {
   "cell_type": "code",
   "execution_count": 189,
   "metadata": {
    "collapsed": false
   },
   "outputs": [
    {
     "name": "stdout",
     "output_type": "stream",
     "text": [
      "Training SVC...\n",
      "Done!\n",
      "Training time (secs): 0.00600028\n",
      "------------------------------------------\n",
      "Training set size: 100\n",
      "Training SVC...\n",
      "Done!\n",
      "Training time (secs): 0.00099993\n",
      "Predicting labels using SVC...\n",
      "Done!\n",
      "Prediction time (secs): 0.001000165939\n",
      "F1 score for training set: 0.8366013071895425\n",
      "Predicting labels using SVC...\n",
      "Done!\n",
      "Prediction time (secs): 0.000999927521\n",
      "F1 score for test set: 0.8227848101265823\n",
      "------------------------------------------\n",
      "Training set size: 200\n",
      "Training SVC...\n",
      "Done!\n",
      "Training time (secs): 0.00300026\n",
      "Predicting labels using SVC...\n",
      "Done!\n",
      "Prediction time (secs): 0.003000020981\n",
      "F1 score for training set: 0.8552188552188551\n",
      "Predicting labels using SVC...\n",
      "Done!\n",
      "Prediction time (secs): 0.000999927521\n",
      "F1 score for test set: 0.794701986754967\n",
      "------------------------------------------\n",
      "Training set size: 300\n",
      "Training SVC...\n",
      "Done!\n",
      "Training time (secs): 0.00700045\n",
      "Predicting labels using SVC...\n",
      "Done!\n",
      "Prediction time (secs): 0.006000280380\n",
      "F1 score for training set: 0.8614718614718614\n",
      "Predicting labels using SVC...\n",
      "Done!\n",
      "Prediction time (secs): 0.002000093460\n",
      "F1 score for test set: 0.8079470198675496\n"
     ]
    }
   ],
   "source": [
    "# Train and predict using SVM\n",
    "from sklearn import svm\n",
    "clf = svm.SVC()\n",
    "\n",
    "# Fit model to training data\n",
    "train_classifier(clf, X_train, y_train)\n",
    "\n",
    "for training_set_size in [100,200,300]:\n",
    "    train_predict(clf, X_train[0:training_set_size], y_train[0:training_set_size], X_test, y_test)  \n"
   ]
  },
  {
   "cell_type": "code",
   "execution_count": 191,
   "metadata": {
    "collapsed": false
   },
   "outputs": [
    {
     "name": "stdout",
     "output_type": "stream",
     "text": [
      "Stats for Support Vector Machine\n"
     ]
    },
    {
     "data": {
      "text/html": [
       "<div>\n",
       "<table border=\"1\" class=\"dataframe\">\n",
       "  <thead>\n",
       "    <tr style=\"text-align: right;\">\n",
       "      <th></th>\n",
       "      <th>100</th>\n",
       "      <th>200</th>\n",
       "      <th>300</th>\n",
       "    </tr>\n",
       "  </thead>\n",
       "  <tbody>\n",
       "    <tr>\n",
       "      <th>Training time (secs)</th>\n",
       "      <td>0.001000</td>\n",
       "      <td>0.003000</td>\n",
       "      <td>0.007000</td>\n",
       "    </tr>\n",
       "    <tr>\n",
       "      <th>Prediction time (secs)</th>\n",
       "      <td>0.001000</td>\n",
       "      <td>0.003000</td>\n",
       "      <td>0.006000</td>\n",
       "    </tr>\n",
       "    <tr>\n",
       "      <th>F1 score for training set</th>\n",
       "      <td>0.836601</td>\n",
       "      <td>0.855219</td>\n",
       "      <td>0.861472</td>\n",
       "    </tr>\n",
       "    <tr>\n",
       "      <th>F1 score for test set</th>\n",
       "      <td>0.822785</td>\n",
       "      <td>0.794702</td>\n",
       "      <td>0.807947</td>\n",
       "    </tr>\n",
       "  </tbody>\n",
       "</table>\n",
       "</div>"
      ],
      "text/plain": [
       "                                100       200       300\n",
       "Training time (secs)       0.001000  0.003000  0.007000\n",
       "Prediction time (secs)     0.001000  0.003000  0.006000\n",
       "F1 score for training set  0.836601  0.855219  0.861472\n",
       "F1 score for test set      0.822785  0.794702  0.807947"
      ]
     },
     "metadata": {},
     "output_type": "display_data"
    }
   ],
   "source": [
    "df = pd.DataFrame({100:[0.00099993,0.001000165939,0.8366013071895425,0.8227848101265823], \n",
    "                   200:[0.00300026,0.003000020981,0.8552188552188551,0.794701986754967],     \n",
    "                   300:[0.00700045,0.006000280380,0.8614718614718614,0.8079470198675496]},                        \n",
    "                  index=['Training time (secs)', 'Prediction time (secs)', 'F1 score for training set','F1 score for test set'])\n",
    "print('Stats for Support Vector Machine')\n",
    "display(df)"
   ]
  },
  {
   "cell_type": "code",
   "execution_count": 217,
   "metadata": {
    "collapsed": false,
    "scrolled": true
   },
   "outputs": [
    {
     "name": "stdout",
     "output_type": "stream",
     "text": [
      "Training KNeighborsClassifier...\n",
      "Done!\n",
      "Training time (secs): 0.00100017\n",
      "------------------------------------------\n",
      "Training set size: 100\n",
      "Training KNeighborsClassifier...\n",
      "Done!\n",
      "Training time (secs): 0.00000000\n",
      "Predicting labels using KNeighborsClassifier...\n",
      "Done!\n",
      "Prediction time (secs): 0.001000165939\n",
      "F1 score for training set: 1.0\n",
      "Predicting labels using KNeighborsClassifier...\n",
      "Done!\n",
      "Prediction time (secs): 0.000999927521\n",
      "F1 score for test set: 0.7763157894736842\n",
      "------------------------------------------\n",
      "Training set size: 200\n",
      "Training KNeighborsClassifier...\n",
      "Done!\n",
      "Training time (secs): 0.00099993\n",
      "Predicting labels using KNeighborsClassifier...\n",
      "Done!\n",
      "Prediction time (secs): 0.003000259399\n",
      "F1 score for training set: 1.0\n",
      "Predicting labels using KNeighborsClassifier...\n",
      "Done!\n",
      "Prediction time (secs): 0.001000165939\n",
      "F1 score for test set: 0.7794117647058824\n",
      "------------------------------------------\n",
      "Training set size: 300\n",
      "Training KNeighborsClassifier...\n",
      "Done!\n",
      "Training time (secs): 0.00100017\n",
      "Predicting labels using KNeighborsClassifier...\n",
      "Done!\n",
      "Prediction time (secs): 0.006000280380\n",
      "F1 score for training set: 1.0\n",
      "Predicting labels using KNeighborsClassifier...\n",
      "Done!\n",
      "Prediction time (secs): 0.003000020981\n",
      "F1 score for test set: 0.7714285714285715\n"
     ]
    }
   ],
   "source": [
    "# Train and predict using K-NN Classifier\n",
    "from sklearn.neighbors import KNeighborsClassifier\n",
    "clf = KNeighborsClassifier(weights='distance')\n",
    "\n",
    "# Fit model to training data\n",
    "train_classifier(clf, X_train, y_train)\n",
    "\n",
    "for training_set_size in [100,200,300]:\n",
    "    train_predict(clf, X_train[0:training_set_size], y_train[0:training_set_size], X_test, y_test)  \n"
   ]
  },
  {
   "cell_type": "code",
   "execution_count": 218,
   "metadata": {
    "collapsed": false
   },
   "outputs": [
    {
     "name": "stdout",
     "output_type": "stream",
     "text": [
      "Stats for K-NN Classifier\n"
     ]
    },
    {
     "data": {
      "text/html": [
       "<div>\n",
       "<table border=\"1\" class=\"dataframe\">\n",
       "  <thead>\n",
       "    <tr style=\"text-align: right;\">\n",
       "      <th></th>\n",
       "      <th>100</th>\n",
       "      <th>200</th>\n",
       "      <th>300</th>\n",
       "    </tr>\n",
       "  </thead>\n",
       "  <tbody>\n",
       "    <tr>\n",
       "      <th>Training time (secs)</th>\n",
       "      <td>0.000000</td>\n",
       "      <td>0.001000</td>\n",
       "      <td>0.001000</td>\n",
       "    </tr>\n",
       "    <tr>\n",
       "      <th>Prediction time (secs)</th>\n",
       "      <td>0.001000</td>\n",
       "      <td>0.003000</td>\n",
       "      <td>0.006000</td>\n",
       "    </tr>\n",
       "    <tr>\n",
       "      <th>F1 score for training set</th>\n",
       "      <td>1.000000</td>\n",
       "      <td>1.000000</td>\n",
       "      <td>1.000000</td>\n",
       "    </tr>\n",
       "    <tr>\n",
       "      <th>F1 score for test set</th>\n",
       "      <td>0.776316</td>\n",
       "      <td>0.779412</td>\n",
       "      <td>0.771429</td>\n",
       "    </tr>\n",
       "  </tbody>\n",
       "</table>\n",
       "</div>"
      ],
      "text/plain": [
       "                                100       200       300\n",
       "Training time (secs)       0.000000  0.001000  0.001000\n",
       "Prediction time (secs)     0.001000  0.003000  0.006000\n",
       "F1 score for training set  1.000000  1.000000  1.000000\n",
       "F1 score for test set      0.776316  0.779412  0.771429"
      ]
     },
     "metadata": {},
     "output_type": "display_data"
    }
   ],
   "source": [
    "df = pd.DataFrame({100:[0.00000000,0.001000165939,1.0,0.7763157894736842], \n",
    "                   200:[0.00099993,0.003000259399,1.0,0.7794117647058824],     \n",
    "                   300:[0.00100017,0.006000280380,1.0,0.7714285714285715]},                        \n",
    "                  index=['Training time (secs)', 'Prediction time (secs)', 'F1 score for training set','F1 score for test set'])\n",
    "print('Stats for K-NN Classifier')\n",
    "display(df)"
   ]
  },
  {
   "cell_type": "markdown",
   "metadata": {},
   "source": [
    "## 5. Choosing the Best Model\n",
    "\n",
    "- Based on the experiments you performed earlier, in 1-2 paragraphs explain to the board of supervisors what single model you chose as the best model. Which model is generally the most appropriate based on the available data, limited resources, cost, and performance?\n",
    "- In 1-2 paragraphs explain to the board of supervisors in layman's terms how the final model chosen is supposed to work (for example if you chose a Decision Tree or Support Vector Machine, how does it make a prediction).\n",
    "- Fine-tune the model. Use Gridsearch with at least one important parameter tuned and with at least 3 settings. Use the entire training set for this.\n",
    "- What is the model's final F<sub>1</sub> score?"
   ]
  },
  {
   "cell_type": "markdown",
   "metadata": {},
   "source": [
    "Based on my experiments I chose a decision tree as the best model. When each model used all 300 data points, the decision tree had the highest F<sub>1</sub> score. \n",
    "\n",
    "F<sub>1</sub> score is a measurement of a system's precision and recall ability. The F<sub>1</sub> score ranges from 0 - 1 where 1 is the best and perfectly predicts the data. Precision is a measure of how often the model predicts a label correctly compared with the total number of times it predicted that label. For instance if this model correctly identified 8 students that needed intervention and predicted 2 other students that it thought needed intervention but really didn't, then it would have a precision of .8 . Recall is the amount of times a model predicts a label correctly compared with the total number actual times that label was true. For instance if this model correctly identified 8 students that needed intervention and there were 8 other students that needed intervention that it predicted didn't need intervention, then it would have a recall of .5 .  \n",
    "\n",
    "Besides just looking at F<sub>1</sub> score, other factors to consider are the amount of data, performance, and resource costs the different models will take. All 3 of these models were appropriate based on the data, cost, and performance so the leading factor was just the best F<sub>1</sub> score. The training and prediction times for all 3 models were negligible.\n",
    "\n",
    "The decision tree works by asking a question and then dividing the data by the answer to that question. Then we ask another question and further divide our data set. We repeat this process until we get a result we are satisfied with. The first question we want to ask is the question that will divide the data into the least random groups. For instance a question that would be perfectly divide the data into students that needed intervention and those that do not would be the perfect question to ask. Fortunately our algorithm finds this best question for us automatically. \n",
    "\n",
    "In our chosen model we only used 2 questions to make our prediction which resulted in a higher score than the other models.\n"
   ]
  },
  {
   "cell_type": "code",
   "execution_count": 251,
   "metadata": {
    "collapsed": false
   },
   "outputs": [
    {
     "name": "stdout",
     "output_type": "stream",
     "text": [
      "------------------------------------------\n",
      "Training set size: 300\n",
      "Training GridSearchCV...\n",
      "Done!\n",
      "Training time (secs): 0.74804282\n",
      "Predicting labels using GridSearchCV...\n",
      "Done!\n",
      "Prediction time (secs): 0.000000000000\n",
      "F1 score for training set: 0.8319327731092436\n",
      "Predicting labels using GridSearchCV...\n",
      "Done!\n",
      "Prediction time (secs): 0.000999927521\n",
      "F1 score for test set: 0.8129032258064516\n"
     ]
    }
   ],
   "source": [
    "# TODO: Fine-tune your model and report the best F1 score\n",
    "from sklearn import grid_search\n",
    "\n",
    "parameters = {'criterion':('gini', 'entropy'), 'max_depth':[2,3,4,5,6,7,9,10], 'min_samples_split':[2,3,4,5,6]}\n",
    "\n",
    "clf = tree.DecisionTreeClassifier()\n",
    "clf = grid_search.GridSearchCV(clf, parameters)\n",
    "\n",
    "train_predict(clf, X_train, y_train, X_test, y_test)\n",
    "\n"
   ]
  },
  {
   "cell_type": "markdown",
   "metadata": {},
   "source": [
    "The F<sub>1</sub> score of 0.8129032258064516 is the same as before I used grid_search to tune it. This shows the default settings with a max_depth of 2 yields the best results on the test data."
   ]
  }
 ],
 "metadata": {
  "kernelspec": {
   "display_name": "Python 3",
   "language": "python",
   "name": "python3"
  },
  "language_info": {
   "codemirror_mode": {
    "name": "ipython",
    "version": 3
   },
   "file_extension": ".py",
   "mimetype": "text/x-python",
   "name": "python",
   "nbconvert_exporter": "python",
   "pygments_lexer": "ipython3",
   "version": "3.5.1"
  }
 },
 "nbformat": 4,
 "nbformat_minor": 0
}
